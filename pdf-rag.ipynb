{
 "cells": [
  {
   "cell_type": "markdown",
   "id": "bdff954c-e46c-4b8c-b573-455cc6cd13d4",
   "metadata": {},
   "source": [
    "## Uploaing PDF"
   ]
  },
  {
   "cell_type": "code",
   "execution_count": 1,
   "id": "a318ebea-e9f5-4bc8-8ee7-3d32c8bee5db",
   "metadata": {},
   "outputs": [
    {
     "name": "stderr",
     "output_type": "stream",
     "text": [
      "[nltk_data] Downloading package punkt_tab to\n",
      "[nltk_data]     /Users/abdullah/nltk_data...\n",
      "[nltk_data]   Package punkt_tab is already up-to-date!\n",
      "[nltk_data] Downloading package averaged_perceptron_tagger_eng to\n",
      "[nltk_data]     /Users/abdullah/nltk_data...\n",
      "[nltk_data]   Package averaged_perceptron_tagger_eng is already up-to-\n",
      "[nltk_data]       date!\n"
     ]
    },
    {
     "data": {
      "text/plain": [
       "True"
      ]
     },
     "execution_count": 1,
     "metadata": {},
     "output_type": "execute_result"
    }
   ],
   "source": [
    "from langchain_community.document_loaders import UnstructuredPDFLoader\n",
    "from langchain_community.document_loaders import OnlinePDFLoader\n",
    "import nltk\n",
    "nltk.download('punkt_tab')\n",
    "nltk.download('averaged_perceptron_tagger_eng')"
   ]
  },
  {
   "cell_type": "code",
   "execution_count": 2,
   "id": "fc5d5b84-03e1-4122-9a97-53e130395f76",
   "metadata": {},
   "outputs": [],
   "source": [
    "doc_path = 'Cloud Computing full.pdf'\n",
    "model = 'deepseek-r1:1.5b'"
   ]
  },
  {
   "cell_type": "code",
   "execution_count": 3,
   "id": "99b5ee6a-4e13-47d5-b380-e462381f94f9",
   "metadata": {},
   "outputs": [
    {
     "name": "stdout",
     "output_type": "stream",
     "text": [
      "done loading......\n"
     ]
    }
   ],
   "source": [
    "if doc_path:\n",
    "    loader=UnstructuredPDFLoader(file_path=doc_path)\n",
    "    data = loader.load()\n",
    "    print(\"done loading......\")\n",
    "else:\n",
    "    print(\"upload the pdf file\")"
   ]
  },
  {
   "cell_type": "markdown",
   "id": "93b6fa7f-bb3d-4734-859b-523be8d83880",
   "metadata": {},
   "source": [
    "## Checking Your data "
   ]
  },
  {
   "cell_type": "code",
   "execution_count": 4,
   "id": "3d15008a-78ff-4286-bcbc-5433f43d6aeb",
   "metadata": {},
   "outputs": [
    {
     "name": "stdout",
     "output_type": "stream",
     "text": [
      "Department of CSE\n",
      "\n",
      "1\n",
      "\n",
      "JNTU Hyderabad\n",
      "\n",
      "Cloud Computing\n",
      "\n",
      "(Professional Elective – IV)\n",
      "\n",
      "IV Year B.Tech.\n"
     ]
    }
   ],
   "source": [
    "content=data[0].page_content\n",
    "print(content[:100])"
   ]
  },
  {
   "cell_type": "markdown",
   "id": "997d2b35-28f2-4fd4-ab96-560f149bb08f",
   "metadata": {},
   "source": [
    "## Extract Text from PDF and split into chunk"
   ]
  },
  {
   "cell_type": "code",
   "execution_count": 5,
   "id": "cad3cc1d-38ee-49f8-b644-51cc6ca8db26",
   "metadata": {},
   "outputs": [],
   "source": [
    "from langchain_ollama import OllamaEmbeddings\n",
    "from langchain_text_splitters import RecursiveCharacterTextSplitter\n",
    "from langchain_community.vectorstores import Chroma"
   ]
  },
  {
   "cell_type": "code",
   "execution_count": 6,
   "id": "fbf7a3a3-bf80-4617-bba4-899f1704252f",
   "metadata": {},
   "outputs": [
    {
     "name": "stdout",
     "output_type": "stream",
     "text": [
      "done splitting...\n"
     ]
    }
   ],
   "source": [
    "text_splitter =  RecursiveCharacterTextSplitter(chunk_size=1200,chunk_overlap=300)\n",
    "chunks = text_splitter.split_documents(data)\n",
    "print(\"done splitting...\")"
   ]
  },
  {
   "cell_type": "markdown",
   "id": "a0e00c1a-68f6-4755-a0aa-244874779ad1",
   "metadata": {},
   "source": [
    "## Adding to vector database"
   ]
  },
  {
   "cell_type": "code",
   "execution_count": 7,
   "id": "746bf0ac-6b9a-4525-be1d-f3e7dd0fcc9c",
   "metadata": {},
   "outputs": [
    {
     "data": {
      "text/plain": [
       "ProgressResponse(status='success', completed=None, total=None, digest=None)"
      ]
     },
     "execution_count": 7,
     "metadata": {},
     "output_type": "execute_result"
    }
   ],
   "source": [
    "import ollama\n",
    "ollama.pull(\"nomic-embed-text\")"
   ]
  },
  {
   "cell_type": "code",
   "execution_count": 8,
   "id": "1bc6e465-92e2-41dd-8367-d1ec340421db",
   "metadata": {},
   "outputs": [
    {
     "name": "stdout",
     "output_type": "stream",
     "text": [
      "done adding to vector database....\n"
     ]
    }
   ],
   "source": [
    "vector_db = Chroma.from_documents(\n",
    "    documents=chunks,\n",
    "    embedding=OllamaEmbeddings(model=\"nomic-embed-text\"),\n",
    "    collection_name=\"simple-rag\"\n",
    ")\n",
    "print(\"done adding to vector database....\")\n",
    "    "
   ]
  },
  {
   "cell_type": "markdown",
   "id": "3057d567-3717-42b0-952e-269d23534fb1",
   "metadata": {},
   "source": [
    "## Retrivel the things"
   ]
  },
  {
   "cell_type": "code",
   "execution_count": 9,
   "id": "a269cc7d-d934-4e22-86e1-69c334b978db",
   "metadata": {},
   "outputs": [],
   "source": [
    "from langchain.prompts import ChatPromptTemplate , PromptTemplate\n",
    "from langchain_core.output_parsers import StrOutputParser\n",
    "from langchain_ollama import ChatOllama\n",
    "from langchain_core.runnables import RunnablePassthrough\n",
    "from langchain.retrievers.multi_query import MultiQueryRetriever"
   ]
  },
  {
   "cell_type": "markdown",
   "id": "99249fc3-b5d0-4657-9ea5-fa4047faa77d",
   "metadata": {},
   "source": [
    "## setting our model to use"
   ]
  },
  {
   "cell_type": "code",
   "execution_count": 10,
   "id": "55863154-5c57-4919-94c9-348913689d4a",
   "metadata": {},
   "outputs": [],
   "source": [
    "llm = ChatOllama(model=model)"
   ]
  },
  {
   "cell_type": "markdown",
   "id": "695197ea-7bdc-4b42-81d8-7d8da76a8d4c",
   "metadata": {},
   "source": [
    "#### a simple technique to generate multiple questions from a single question and then retrieve documents\n",
    "#### based on those questions, getting the best of both worlds."
   ]
  },
  {
   "cell_type": "code",
   "execution_count": 11,
   "id": "986476da-b73d-49d1-a7fd-af6870ec9f87",
   "metadata": {},
   "outputs": [],
   "source": [
    "QUERY_PROMPT = PromptTemplate(\n",
    "    input_variables=[\"question\"],\n",
    "    template=\"\"\"You are an AI language model assistant. Your task is to generate five\n",
    "    different versions of the given user question to retrieve relevant documents from\n",
    "    a vector database. By generating multiple perspectives on the user question, your\n",
    "    goal is to help the user overcome some of the limitations of the distance-based\n",
    "    similarity search. Provide these alternative questions separated by newlines.\n",
    "    Original question: {question}\"\"\",\n",
    ")"
   ]
  },
  {
   "cell_type": "code",
   "execution_count": 12,
   "id": "7b4a39e0-69fa-4db4-bc25-0c6b8fd65ce0",
   "metadata": {},
   "outputs": [],
   "source": [
    "retriever= MultiQueryRetriever.from_llm(\n",
    "    vector_db.as_retriever(),llm,prompt=QUERY_PROMPT\n",
    ")"
   ]
  },
  {
   "cell_type": "markdown",
   "id": "840108dc-6590-446c-980f-72794aeafb59",
   "metadata": {},
   "source": [
    "## RAG prompt"
   ]
  },
  {
   "cell_type": "code",
   "execution_count": 13,
   "id": "29808571-fdd6-4044-a1d1-5877eea3faf1",
   "metadata": {},
   "outputs": [],
   "source": [
    "template = \"\"\"Answer the question based ONLY on the following context:\n",
    "{context}\n",
    "Question: {question}\n",
    "\"\"\"\n",
    "\n",
    "prompt= ChatPromptTemplate.from_template(template)\n",
    "\n",
    "chain = (\n",
    "    {\"context\": retriever, \"question\": RunnablePassthrough()}\n",
    "    | prompt\n",
    "    | llm\n",
    "    | StrOutputParser()\n",
    ")\n"
   ]
  },
  {
   "cell_type": "code",
   "execution_count": 15,
   "id": "d3b3bf82-d1b0-4a3e-9fbe-4cadbfe7d911",
   "metadata": {},
   "outputs": [
    {
     "name": "stdout",
     "output_type": "stream",
     "text": [
      "<think>\n",
      "Okay, I need to figure out the answer to the question \"What is cloud computing?\" based on the provided text. Let me read through the text carefully.\n",
      "\n",
      "First, I'll go through each section to identify where cloud computing is mentioned. The text starts with an introduction about computing power and how it's essential for business growth. It then talks about traditional computing systems like mainframe computers, servers, and databases.\n",
      "\n",
      "Next, in the \"History\" section, it mentions that the first computers were built by British and German companies. Then, it shifts to the rise of cloud computing as a solution for these old systems. The text describes how companies started using virtualized machines on virtual servers across different clouds, which became more efficient compared to buying physical hardware each time.\n",
      "\n",
      "There's also a section about the \"Motivation\" part. It explains that before cloud computing, businesses had to pay for hardware and software upfront. This leads to high costs and complexity, especially with the rise of big data and the internet. Cloud computing offers scalability, on-demand access, and cost savings by leveraging virtualization.\n",
      "\n",
      "Looking at the \"Definition\" section, it defines cloud computing as a method of delivering computing resources over the internet using shared infrastructure and networking protocols. This makes sense because it explains how resources are managed remotely without needing physical hardware each time.\n",
      "\n",
      "The text also mentions that cloud computing is used in various industries like manufacturing, healthcare, education, finance, retail, and gaming. It gives specific examples for each industry, which helps illustrate the concept.\n",
      "\n",
      "In the \"Challenges\" section, it talks about issues like security (since data is at rest) and managing multiple virtual machines simultaneously. It also mentions that companies need expertise in virtualization to use cloud computing effectively.\n",
      "\n",
      "The conclusion wraps up by summarizing that cloud computing provides scalability, flexibility, cost savings, and efficiency through virtualized infrastructure.\n",
      "\n",
      "Putting this all together, the answer should cover the definition, how it works (using shared networks), its benefits like scalability and cost-efficiency, and the challenges companies face. I'll structure this information clearly in my response.\n",
      "</think>\n",
      "\n",
      "Cloud computing is a transformative technology that allows businesses to manage and distribute computing resources over an internet-connected network. Instead of using physical hardware, cloud computing uses virtualized machines on shared infrastructure, enabling operations from anywhere with minimal latency. This approach offers scalability, cost savings, and flexibility, as companies can access resources dynamically without investing in physical hardware each time. It is particularly effective for industries dealing with big data and the internet, offering solutions such as online collaboration tools, distributed storage, and real-time analytics. Despite challenges like security concerns and managing multiple virtual machines simultaneously, cloud computing provides a cost-effective and scalable solution that enhances business operations and customer satisfaction.\n"
     ]
    }
   ],
   "source": [
    "res = chain.invoke(input=(\"what is cloud computing\"))\n",
    "print(res)"
   ]
  },
  {
   "cell_type": "code",
   "execution_count": null,
   "id": "8b61fde9-3dd2-4a00-adb5-76f0f72bd737",
   "metadata": {},
   "outputs": [],
   "source": []
  }
 ],
 "metadata": {
  "kernelspec": {
   "display_name": "Python 3 (ipykernel)",
   "language": "python",
   "name": "python3"
  },
  "language_info": {
   "codemirror_mode": {
    "name": "ipython",
    "version": 3
   },
   "file_extension": ".py",
   "mimetype": "text/x-python",
   "name": "python",
   "nbconvert_exporter": "python",
   "pygments_lexer": "ipython3",
   "version": "3.12.4"
  }
 },
 "nbformat": 4,
 "nbformat_minor": 5
}
